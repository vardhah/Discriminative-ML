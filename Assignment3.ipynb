{
 "cells": [
  {
   "cell_type": "markdown",
   "metadata": {},
   "source": [
    "# Importing libararies & MNIST data"
   ]
  },
  {
   "cell_type": "code",
   "execution_count": 1,
   "metadata": {},
   "outputs": [
    {
     "name": "stdout",
     "output_type": "stream",
     "text": [
      "The shape of the image is (28, 28)\n",
      "The training set contains 20 images\n",
      "The shape of the train image is (28, 28)\n"
     ]
    }
   ],
   "source": [
    "import os\n",
    "import numpy as np\n",
    "import struct\n",
    "from matplotlib import pyplot\n",
    "from sklearn.metrics import confusion_matrix\n",
    "import itertools\n",
    "%matplotlib inline  \n",
    "\n",
    "path = 'C:/Users/HPP/Desktop/Python/DL clas/MNIST'   # the training set is stored in this directory\n",
    "\n",
    "# Train data\n",
    "fname_train_images = os.path.join(path, 'train-images.idx3-ubyte')  # the training set image file path\n",
    "fname_train_labels = os.path.join(path, 'train-labels.idx1-ubyte')  # the training set label file path\n",
    "\n",
    "#Test data\n",
    "fname_test_images = os.path.join(path, 't10k-images.idx3-ubyte')  # the training set image file path\n",
    "fname_test_labels = os.path.join(path, 't10k-labels.idx1-ubyte')  # the training set label file path\n",
    "    \n",
    "# open the label file and load it to the \"train_labels\"\n",
    "with open(fname_train_labels, 'rb') as flbl:\n",
    "    magic, num = struct.unpack(\">II\", flbl.read(8))\n",
    "    train_labels = np.fromfile(flbl, dtype=np.uint8)\n",
    "\n",
    "# open the image file and load it to the \"train_images\"\n",
    "with open(fname_train_images, 'rb') as fimg:\n",
    "    magic, num, rows, cols = struct.unpack(\">IIII\", fimg.read(16))\n",
    "    train_images = np.fromfile(fimg, dtype=np.uint8).reshape(len(train_labels), rows, cols)\n",
    "    \n",
    "    \n",
    "with open(fname_test_labels, 'rb') as flbl:\n",
    "    magic, num = struct.unpack(\">II\", flbl.read(8))\n",
    "    test_labels = np.fromfile(flbl, dtype=np.uint8)\n",
    "\n",
    "# open the image file and load it to the \"train_images\"\n",
    "with open(fname_test_images, 'rb') as fimg:\n",
    "    magic, num, rows, cols = struct.unpack(\">IIII\", fimg.read(16))\n",
    "    test_images = np.fromfile(fimg, dtype=np.uint8).reshape(len(test_labels), rows, cols)\n",
    "    \n",
    "#print('The training set contains', len(train_images), 'images')  # print the how many images contained in the training set\n",
    "print('The shape of the image is', train_images[0].shape)  # print the shape of the image\n",
    "\n",
    "#imgNumber = 5  # choose which image you want to display\n",
    "#print('The image matrix is', train_images[imgNumber])  # print the label of the image displayed\n",
    "\n",
    "\n",
    "##_--------------Data Preprocessing ----------------------------------##\n",
    "#Goal of this section: segregating the data into small chunks, changing the label, seperate train & test data\n",
    "\n",
    "num_samples=20 #select the size of data for segregating\n",
    "\n",
    "train_images_section= train_images[0:num_samples]\n",
    "train_labels_section= train_labels[0:num_samples]\n",
    "\n",
    "train_images_section=train_images_section/255    # data Normalization\n",
    "#print('one instance of train image is :',train_images_section[0])\n",
    "\n",
    "for i in range(0,num_samples): \n",
    " if(train_labels_section[i]==3):\n",
    "   train_labels_section[i]=1\n",
    " else:\n",
    "   train_labels_section[i]=0\n",
    "\n",
    " \n",
    "X_train=train_images_section\n",
    "y_train= train_labels_section\n",
    "\n",
    "print('The training set contains', len(X_train), 'images')  # print the how many images contained in the training set\n",
    "print('The shape of the train image is', X_train[0].shape)  # print the shape of the image\n"
   ]
  },
  {
   "cell_type": "markdown",
   "metadata": {},
   "source": [
    "# Reshaping of data & initializing the parameters"
   ]
  },
  {
   "cell_type": "code",
   "execution_count": 3,
   "metadata": {},
   "outputs": [
    {
     "name": "stdout",
     "output_type": "stream",
     "text": [
      "m is: 20\n",
      "(20, 28, 28)\n",
      "shape of x train_m: (784, 20)\n",
      "shape of y_train_v: (1, 20)\n",
      "size of weight1 is: (6, 784)\n",
      "size of weight2 is: (1, 6)\n",
      "size of b1: ()\n"
     ]
    }
   ],
   "source": [
    "m=X_train.shape[0]\n",
    "print('m is:',m)\n",
    "print(X_train.shape);\n",
    "X_train_m=X_train.reshape(X_train.shape[1]*X_train.shape[2],X_train.shape[0])\n",
    "print('shape of x train_m:',X_train_m.shape)\n",
    "y_train_v=y_train.reshape(y_train.shape[0],1).T\n",
    "print('shape of y_train_v:',y_train_v.shape)\n",
    "\n",
    "\n",
    "\n",
    "#initilising the weights & bias and learnig rate\n",
    "W1=np.random.randn(6,X_train.shape[1]*X_train.shape[2])\n",
    "W2= np.random.randn(1,6)\n",
    "b1=0\n",
    "b2=0\n",
    "b1=np.array(b1)\n",
    "print(\"size of weight1 is:\",W1.shape)\n",
    "print(\"size of weight2 is:\",W2.shape)\n",
    "print('size of b1:',b1.shape)\n",
    "alpha = 0.00041\n",
    "cost=[]\n",
    "iteration=[]"
   ]
  },
  {
   "cell_type": "markdown",
   "metadata": {},
   "source": [
    "# Forward propogation and back propogation "
   ]
  },
  {
   "cell_type": "code",
   "execution_count": 7,
   "metadata": {},
   "outputs": [
    {
     "name": "stdout",
     "output_type": "stream",
     "text": [
      "size of db1: (6, 1)\n",
      "size of b1: (6, 1)\n",
      "size of b2: (1, 1)\n",
      "size of db1: (6, 1)\n",
      "size of b1: (6, 1)\n",
      "size of b2: (1, 1)\n",
      "size of db1: (6, 1)\n",
      "size of b1: (6, 1)\n",
      "size of b2: (1, 1)\n",
      "size of db1: (6, 1)\n",
      "size of b1: (6, 1)\n",
      "size of b2: (1, 1)\n",
      "size of db1: (6, 1)\n",
      "size of b1: (6, 1)\n",
      "size of b2: (1, 1)\n",
      "size of db1: (6, 1)\n",
      "size of b1: (6, 1)\n",
      "size of b2: (1, 1)\n",
      "size of db1: (6, 1)\n",
      "size of b1: (6, 1)\n",
      "size of b2: (1, 1)\n",
      "size of db1: (6, 1)\n",
      "size of b1: (6, 1)\n",
      "size of b2: (1, 1)\n",
      "size of db1: (6, 1)\n",
      "size of b1: (6, 1)\n",
      "size of b2: (1, 1)\n",
      "size of db1: (6, 1)\n",
      "size of b1: (6, 1)\n",
      "size of b2: (1, 1)\n"
     ]
    }
   ],
   "source": [
    "for itr in range(10):\n",
    " \n",
    "#Forward propogation \n",
    " z1=np.dot(W1,X_train_m)+b1\n",
    " a1=np.maximum(z1,[0])\n",
    " \n",
    " z2=np.dot(W2,a1)+b2\n",
    " a2 = 1/(1+np.exp(-z2))\n",
    " \n",
    " J=-y_train_v*(np.log(a2))-(1-y_train_v)*np.log(1-a2) \n",
    " J= np.sum(J)/m\n",
    " \n",
    " cost.append(J)\n",
    " iteration.append(itr)\n",
    "\n",
    "\n",
    "#Backward propogation \n",
    " dz2= a2-y_train_v\n",
    " dw2=(1/m)*np.dot(dz2,a1.T)\n",
    " db2=(1/m)*np.sum(dz2,axis=1,keepdims=True)\n",
    " \n",
    " dz1=np.dot(W2.T,dz2)*((z1>0)*1)\n",
    " dw1=(1/m)* np.dot(dz1,X_train_m.T) \n",
    " db1= (1/m)*np.sum(dz1,axis=1,keepdims=True)\n",
    " \n",
    " W1=W1-alpha*dw1\n",
    " b1=b1-alpha*db1\n",
    " W2=W2-alpha*dw2\n",
    " b2=b2-alpha*db2\n",
    " print('size of db1:',db1.shape)\n",
    " print('size of b1:',b1.shape)\n",
    " print('size of b2:',b2.shape)"
   ]
  },
  {
   "cell_type": "markdown",
   "metadata": {},
   "source": [
    "# Printing the size of matrices for cross validation "
   ]
  },
  {
   "cell_type": "code",
   "execution_count": 403,
   "metadata": {},
   "outputs": [
    {
     "name": "stdout",
     "output_type": "stream",
     "text": [
      "size of W1: (6, 784)\n",
      "shape of dw1: (6, 784)\n",
      "size of z1: (6, 30000)\n",
      "shape of dz1: (6, 30000)\n",
      "size of  a1: (6, 30000)\n",
      "shape of db1: (6, 1)\n",
      "\n",
      " Layer 2 size datas: \n",
      "\n",
      "size of W2: (1, 6)\n",
      "size of z2: (1, 30000)\n",
      "size of  a2: (1, 30000)\n",
      "shape of dz2: (1, 30000)\n",
      "shape of dw2: (1, 6)\n",
      "shape of db2: (1, 1)\n"
     ]
    }
   ],
   "source": [
    "print('size of W1:',W1.shape)\n",
    "print('shape of dw1:',dw1.shape)\n",
    "print('size of z1:',z1.shape)\n",
    "print('shape of dz1:',dz1.shape)\n",
    "print('size of  a1:',a1.shape)\n",
    "print('shape of db1:',db1.shape)\n",
    "\n",
    "print('\\n Layer 2 size datas: \\n')\n",
    "\n",
    "print('size of W2:',W2.shape)\n",
    "print('size of z2:',z2.shape)\n",
    "print('size of  a2:',a2.shape)\n",
    "print('shape of dz2:',dz2.shape)\n",
    "print('shape of dw2:',dw2.shape)\n",
    "print('shape of db2:',db2.shape)\n"
   ]
  },
  {
   "cell_type": "markdown",
   "metadata": {},
   "source": [
    "# Plot the cost function"
   ]
  },
  {
   "cell_type": "code",
   "execution_count": 404,
   "metadata": {},
   "outputs": [
    {
     "name": "stdout",
     "output_type": "stream",
     "text": [
      "Number of errors in training: 6316\n",
      "fraction of error in training: 0.21053333333333332\n"
     ]
    },
    {
     "data": {
      "image/png": "[encoded data removed]",
      "text/plain": [
       "<Figure size 432x288 with 1 Axes>"
      ]
     },
     "metadata": {
      "needs_background": "light"
     },
     "output_type": "display_data"
    }
   ],
   "source": [
    "pyplot.title(\"cost function\")\n",
    "pyplot.xlabel(\"iteration\")\n",
    "pyplot.ylabel(\"cost\");\n",
    "pyplot.plot(iteration,cost, color='red',linewidth=2,label=\"J cost\") \n",
    "\n",
    " \n",
    "#print('Output weights are:',W.T)\n",
    "\n",
    "\n",
    "for i in range(a2.shape[1]):\n",
    "    if(a2[0,i]<0.5):\n",
    "        a2[0,i]=0\n",
    "    else:\n",
    "        a2[0,i]=1\n",
    "c=a2-y_train_v\n",
    "counter=0\n",
    "for i in range(c.shape[1]):\n",
    "    if c[0,i] !=0:\n",
    "        counter=counter+1\n",
    "print('Number of errors in training:',counter)\n",
    "print('fraction of error in training:',counter/c.shape[1])    \n"
   ]
  },
  {
   "cell_type": "markdown",
   "metadata": {},
   "source": [
    "# Testing the neural net on test data "
   ]
  },
  {
   "cell_type": "code",
   "execution_count": 405,
   "metadata": {},
   "outputs": [
    {
     "name": "stdout",
     "output_type": "stream",
     "text": [
      "The testing set contains 2000 images\n",
      "The shape of the test image is (28, 28)\n",
      "The testing set contains 2000 labels\n",
      "shape of x test_m: (784, 2000)\n",
      "shape of y_test_v: (1, 2000)\n",
      "size of W1: (6, 784)\n",
      "size of W2: (1, 6)\n",
      "size of Z1: (6, 2000)\n",
      "size of A1: (6, 2000)\n",
      "size of W2: (1, 6)\n",
      "size of Z2: (1, 2000)\n",
      "size of A2: (1, 2000)\n",
      "output for test sample is: [[0. 0. 0. ... 0. 0. 0.]]\n",
      "real input data: [[0 0 0 ... 1 0 0]]\n",
      "/n fraction of error in testing: 0.22\n"
     ]
    }
   ],
   "source": [
    "num_samplesT=2000  #select the size of data for segregating\n",
    "\n",
    "test_images_section= test_images[0:num_samplesT]\n",
    "test_labels_section= test_labels[0:num_samplesT]\n",
    "\n",
    "test_images_section=test_images_section/255    # data Normalization\n",
    "\n",
    "\n",
    "#changing label of data \n",
    "for i in range(0,num_samplesT):\n",
    " if(test_labels_section[i]==3):\n",
    "   test_labels_section[i]=1\n",
    " else:\n",
    "   test_labels_section[i]=0\n",
    "   \n",
    "\n",
    "#Take a piece of data from given dataset  \n",
    "X_test=test_images_section\n",
    "y_test= test_labels_section\n",
    "\n",
    "print('The testing set contains', len(X_test), 'images')  # print the how many images contained in the training set\n",
    "print('The shape of the test image is', X_test[0].shape)  # print the shape of the image\n",
    "\n",
    "print('The testing set contains', len(y_test), 'labels')  # print the how many images contained in the training set\n",
    "\n",
    "\n",
    "X_test_m=X_test.reshape(X_test.shape[1]*X_test.shape[2],X_test.shape[0])\n",
    "print('shape of x test_m:',X_test_m.shape)\n",
    "y_test_v=y_test.reshape(y_test.shape[0],1).T\n",
    "print('shape of y_test_v:',y_test_v.shape)\n",
    "\n",
    "print('size of W1:',W1.shape)\n",
    "print('size of W2:',W2.shape)\n",
    "\n",
    "\n",
    "Z1=np.dot(W1,X_test_m)+b1\n",
    "A1=np.maximum(Z1,[0])\n",
    "print('size of Z1:',Z1.shape)\n",
    "print('size of A1:',A1.shape)\n",
    " \n",
    "print('size of W2:',W2.shape)\n",
    "Z2=np.dot(W2,A1)+b2\n",
    "print('size of Z2:',Z2.shape)\n",
    "A2 = 1/(1+np.exp(-Z2))\n",
    "\n",
    "print('size of A2:',A2.shape)\n",
    "\n",
    "for i in range(A2.shape[1]):\n",
    "    if(A2[0,i]<0.5):\n",
    "        A2[0,i]=0\n",
    "    else:\n",
    "        A2[0,i]=1\n",
    "        \n",
    "\n",
    "print('output for test sample is:',A2)\n",
    "print('real input data:',y_test_v)\n",
    "\n",
    "c=A2-y_test_v\n",
    "counter=0\n",
    "for i in range(c.shape[1]):\n",
    "    if c[0,i] !=0:\n",
    "        counter=counter+1\n",
    "\n",
    "print('/n fraction of error in testing:',counter/c.shape[1]) \n",
    "\n",
    "\n",
    "A=A2.reshape(A2.shape[1],)\n",
    "cm = confusion_matrix(y_test, A)"
   ]
  },
  {
   "cell_type": "markdown",
   "metadata": {},
   "source": [
    "# Defining  the confusion matrix"
   ]
  },
  {
   "cell_type": "code",
   "execution_count": 406,
   "metadata": {},
   "outputs": [],
   "source": [
    "def plot_confusion_matrix(cm, classes,\n",
    "                          normalize=False,\n",
    "                          title='Confusion matrix',\n",
    "                          cmap=pyplot.cm.Blues):\n",
    "    \"\"\"\n",
    "    This function prints and plots the confusion matrix.\n",
    "    Normalization can be applied by setting `normalize=True`.\n",
    "    \"\"\"\n",
    "    if normalize:\n",
    "        cm = cm.astype('float') / cm.sum(axis=1)[:, np.newaxis]\n",
    "        print(\"Normalized confusion matrix\")\n",
    "    else:\n",
    "        print('Confusion matrix, without normalization')\n",
    "\n",
    "    print(cm)\n",
    "\n",
    "    pyplot.imshow(cm, interpolation='nearest', cmap=cmap)\n",
    "    pyplot.title(title)\n",
    "    pyplot.colorbar()\n",
    "    tick_marks = np.arange(len(classes))\n",
    "    pyplot.xticks(tick_marks, classes, rotation=45)\n",
    "    pyplot.yticks(tick_marks, classes)\n",
    "\n",
    "    fmt = '.2f' if normalize else 'd'\n",
    "    thresh = cm.max() / 2.\n",
    "    for i, j in itertools.product(range(cm.shape[0]), range(cm.shape[1])):\n",
    "        pyplot.text(j, i, format(cm[i, j], fmt),\n",
    "                 horizontalalignment=\"center\",\n",
    "                 color=\"white\" if cm[i, j] > thresh else \"black\")\n",
    "\n",
    "    pyplot.ylabel('True label')\n",
    "    pyplot.xlabel('Predicted label')\n",
    "    pyplot.tight_layout()\n"
   ]
  },
  {
   "cell_type": "markdown",
   "metadata": {},
   "source": [
    "# plotting the confusion matrix for viewing the output result"
   ]
  },
  {
   "cell_type": "code",
   "execution_count": 407,
   "metadata": {},
   "outputs": [
    {
     "name": "stdout",
     "output_type": "stream",
     "text": [
      "Confusion matrix, without normalization\n",
      "[[1531  262]\n",
      " [ 178   29]]\n"
     ]
    },
    {
     "data": {
      "image/png": "[encoded data removed]",
      "text/plain": [
       "<Figure size 432x288 with 2 Axes>"
      ]
     },
     "metadata": {
      "needs_background": "light"
     },
     "output_type": "display_data"
    }
   ],
   "source": [
    "cm_plot_labels=['has no 3','has 3']\n",
    "plot_confusion_matrix(cm,cm_plot_labels,title='confusion matrix')"
   ]
  },
  {
   "cell_type": "markdown",
   "metadata": {},
   "source": [
    "The confusion matrix is reopresenting the testing error. the principal diagonal gives the correct predicted output. and rest all values give wrong prediction. Here Out of 1793 images which were not 3 ,1531 is predicted correctly. "
   ]
  },
  {
   "cell_type": "code",
   "execution_count": null,
   "metadata": {},
   "outputs": [],
   "source": []
  }
 ],
 "metadata": {
  "kernelspec": {
   "display_name": "Python 3",
   "language": "python",
   "name": "python3"
  },
  "language_info": {
   "codemirror_mode": {
    "name": "ipython",
    "version": 3
   },
   "file_extension": ".py",
   "mimetype": "text/x-python",
   "name": "python",
   "nbconvert_exporter": "python",
   "pygments_lexer": "ipython3",
   "version": "3.7.1"
  }
 },
 "nbformat": 4,
 "nbformat_minor": 2
}
